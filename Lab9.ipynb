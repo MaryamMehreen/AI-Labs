{
  "nbformat": 4,
  "nbformat_minor": 0,
  "metadata": {
    "colab": {
      "provenance": []
    },
    "kernelspec": {
      "name": "python3",
      "display_name": "Python 3"
    },
    "language_info": {
      "name": "python"
    }
  },
  "cells": [
    {
      "cell_type": "code",
      "execution_count": 1,
      "metadata": {
        "colab": {
          "base_uri": "https://localhost:8080/"
        },
        "id": "a9wdxpCT0jxS",
        "outputId": "fca89fe3-bec3-4ad4-c23f-f2b00dfe8077"
      },
      "outputs": [
        {
          "output_type": "stream",
          "name": "stdout",
          "text": [
            "Shortest path from A to G: ['A', 'H', 'E', 'G']\n"
          ]
        }
      ],
      "source": [
        "from collections import deque\n",
        "\n",
        "def bfs_shortest_path(graph, start, goal):\n",
        "    visited = set()\n",
        "    queue = deque([[start]])\n",
        "\n",
        "    if start == goal:\n",
        "        return [start]\n",
        "\n",
        "    while queue:\n",
        "        path = queue.popleft()\n",
        "        node = path[-1]\n",
        "\n",
        "        if node not in visited:\n",
        "            neighbors = graph[node]\n",
        "\n",
        "            for neighbor in neighbors:\n",
        "                new_path = list(path)\n",
        "                new_path.append(neighbor)\n",
        "                queue.append(new_path)\n",
        "\n",
        "                if neighbor == goal:\n",
        "                    return new_path\n",
        "\n",
        "            visited.add(node)\n",
        "\n",
        "    return None\n",
        "\n",
        "\n",
        "graph = {\n",
        "    \"A\": [\"B\", \"C\", \"H\"],\n",
        "    \"B\": [\"A\"],\n",
        "    \"C\": [\"A\", \"D\"],\n",
        "    \"D\": [\"C\", \"E\", \"F\"],\n",
        "    \"E\": [\"D\", \"G\", \"H\"],\n",
        "    \"F\": [\"D\", \"G\"],\n",
        "    \"G\": [\"E\", \"F\"],\n",
        "    \"H\": [\"A\", \"E\"]\n",
        "}\n",
        "\n",
        "\n",
        "start_node = \"A\"\n",
        "goal_node = \"G\"\n",
        "path = bfs_shortest_path(graph, start_node, goal_node)\n",
        "print(f\"Shortest path from {start_node} to {goal_node}: {path}\")\n"
      ]
    },
    {
      "cell_type": "code",
      "source": [],
      "metadata": {
        "id": "rcwU63WW3YZd"
      },
      "execution_count": null,
      "outputs": []
    },
    {
      "cell_type": "code",
      "source": [
        "def dfs(graph, start, visited=None):\n",
        "    if visited is None:\n",
        "        visited = set()\n",
        "\n",
        "    visited.add(start)\n",
        "    print(start, end=\" \")\n",
        "\n",
        "    for neighbor in graph[start]:\n",
        "        if neighbor not in visited:\n",
        "            dfs(graph, neighbor, visited)\n",
        "\n",
        "\n",
        "graph = {\n",
        "    \"A\": [\"B\", \"C\", \"H\"],\n",
        "    \"B\": [\"A\"],\n",
        "    \"C\": [\"A\", \"D\"],\n",
        "    \"D\": [\"C\", \"E\", \"F\"],\n",
        "    \"E\": [\"D\", \"G\", \"H\"],\n",
        "    \"F\": [\"D\", \"G\"],\n",
        "    \"G\": [\"E\", \"F\"],\n",
        "    \"H\": [\"A\", \"E\"]\n",
        "}\n",
        "\n",
        "dfs(graph, \"A\")\n"
      ],
      "metadata": {
        "colab": {
          "base_uri": "https://localhost:8080/"
        },
        "id": "T54h07ax1Nf0",
        "outputId": "42f0c1cf-353b-4e65-f830-1708c2388c28"
      },
      "execution_count": 2,
      "outputs": [
        {
          "output_type": "stream",
          "name": "stdout",
          "text": [
            "A B C D E G F H "
          ]
        }
      ]
    },
    {
      "cell_type": "code",
      "source": [
        "from collections import deque\n",
        "\n",
        "\n",
        "def find_blank(board):\n",
        "    for i in range(3):\n",
        "        for j in range(3):\n",
        "            if board[i][j] == 0:\n",
        "                return i, j\n",
        "\n",
        "def move_blank(board, x, y, new_x, new_y):\n",
        "    new_board = [row[:] for row in board]\n",
        "    new_board[x][y], new_board[new_x][new_y] = new_board[new_x][new_y], new_board[x][y]\n",
        "    return new_board\n",
        "\n",
        "\n",
        "def is_goal(board, goal):\n",
        "    return board == goal\n",
        "\n",
        "def bfs(initial, goal):\n",
        "    queue = deque([(initial, [])])\n",
        "    visited = set()\n",
        "    visited.add(tuple(map(tuple, initial)))\n",
        "\n",
        "    while queue:\n",
        "        state, path = queue.popleft()\n",
        "        if is_goal(state, goal):\n",
        "            return path\n",
        "\n",
        "        x, y = find_blank(state)\n",
        "\n",
        "\n",
        "        moves = [(x-1, y), (x+1, y), (x, y-1), (x, y+1)]\n",
        "\n",
        "        for new_x, new_y in moves:\n",
        "            if 0 <= new_x < 3 and 0 <= new_y < 3:\n",
        "                new_state = move_blank(state, x, y, new_x, new_y)\n",
        "\n",
        "\n",
        "                new_state_tuple = tuple(map(tuple, new_state))\n",
        "                if new_state_tuple not in visited:\n",
        "                    visited.add(new_state_tuple)\n",
        "                    queue.append((new_state, path + [new_state]))\n",
        "    return None\n",
        "\n",
        "\n",
        "initial_state = [\n",
        "    [1, 2, 3],\n",
        "    [4, 0, 5],\n",
        "    [7, 8, 6]\n",
        "]\n",
        "\n",
        "goal_state = [\n",
        "    [1, 2, 3],\n",
        "    [4, 5, 6],\n",
        "    [7, 8, 0]\n",
        "]\n",
        "\n",
        "\n",
        "solution = bfs(initial_state, goal_state)\n",
        "\n",
        "\n",
        "if solution:\n",
        "    print(\"Solution path:\")\n",
        "    for step in solution:\n",
        "        for row in step:\n",
        "            print(row)\n",
        "        print()\n",
        "else:\n",
        "    print(\"No solution found.\")\n"
      ],
      "metadata": {
        "colab": {
          "base_uri": "https://localhost:8080/"
        },
        "id": "500fIn6r2CkA",
        "outputId": "7073307b-127c-4be4-d5f7-5f42b6439a3c"
      },
      "execution_count": 3,
      "outputs": [
        {
          "output_type": "stream",
          "name": "stdout",
          "text": [
            "Solution path:\n",
            "[1, 2, 3]\n",
            "[4, 5, 0]\n",
            "[7, 8, 6]\n",
            "\n",
            "[1, 2, 3]\n",
            "[4, 5, 6]\n",
            "[7, 8, 0]\n",
            "\n"
          ]
        }
      ]
    },
    {
      "cell_type": "code",
      "source": [
        "def dfs(graph, start, goal, path=None, visited=None):\n",
        "    if visited is None:\n",
        "        visited = set()\n",
        "    if path is None:\n",
        "        path = []\n",
        "\n",
        "    path.append(start)\n",
        "    visited.add(start)\n",
        "\n",
        "\n",
        "    if start == goal:\n",
        "        return path\n",
        "\n",
        "\n",
        "    for neighbor, distance in graph[start]:\n",
        "        if neighbor not in visited:\n",
        "            result = dfs(graph, neighbor, goal, path.copy(), visited.copy())\n",
        "            if result:\n",
        "                return result\n",
        "\n",
        "    return None\n",
        "\n",
        "\n",
        "graph = {\n",
        "    \"Arad\": [(\"Zerind\", 75), (\"Timisoara\", 118), (\"Sibiu\", 140)],\n",
        "    \"Zerind\": [(\"Arad\", 75), (\"Oradea\", 71)],\n",
        "    \"Oradea\": [(\"Zerind\", 71), (\"Sibiu\", 151)],\n",
        "    \"Timisoara\": [(\"Arad\", 118), (\"Lugoj\", 111)],\n",
        "    \"Lugoj\": [(\"Timisoara\", 111), (\"Mehadia\", 70)],\n",
        "    \"Mehadia\": [(\"Lugoj\", 70), (\"Drobeta\", 75)],\n",
        "    \"Drobeta\": [(\"Mehadia\", 75), (\"Craiova\", 120)],\n",
        "    \"Craiova\": [(\"Drobeta\", 120), (\"Rimnicu Vilcea\", 146), (\"Pitesti\", 138)],\n",
        "    \"Rimnicu Vilcea\": [(\"Craiova\", 146), (\"Sibiu\", 80), (\"Pitesti\", 97)],\n",
        "    \"Sibiu\": [(\"Arad\", 140), (\"Oradea\", 151), (\"Fagaras\", 99), (\"Rimnicu Vilcea\", 80)],\n",
        "    \"Fagaras\": [(\"Sibiu\", 99), (\"Bucharest\", 211)],\n",
        "    \"Pitesti\": [(\"Rimnicu Vilcea\", 97), (\"Craiova\", 138), (\"Bucharest\", 101)],\n",
        "    \"Bucharest\": [(\"Fagaras\", 211), (\"Pitesti\", 101), (\"Giurgiu\", 90), (\"Urziceni\", 85)],\n",
        "    \"Giurgiu\": [(\"Bucharest\", 90)],\n",
        "    \"Urziceni\": [(\"Bucharest\", 85), (\"Hirsova\", 98), (\"Vaslui\", 142)],\n",
        "    \"Hirsova\": [(\"Urziceni\", 98), (\"Eforie\", 86)],\n",
        "    \"Eforie\": [(\"Hirsova\", 86)],\n",
        "    \"Vaslui\": [(\"Urziceni\", 142), (\"Iasi\", 92)],\n",
        "    \"Iasi\": [(\"Vaslui\", 92), (\"Neamt\", 87)],\n",
        "    \"Neamt\": [(\"Iasi\", 87)]\n",
        "}\n",
        "\n",
        "\n",
        "start_city = \"Arad\"\n",
        "goal_city = \"Bucharest\"\n",
        "path = dfs(graph, start_city, goal_city)\n",
        "\n",
        "\n",
        "if path:\n",
        "    print(\"Path from Arad to Bucharest:\")\n",
        "    print(\" -> \".join(path))\n",
        "else:\n",
        "    print(\"No path found from Arad to Bucharest.\")\n"
      ],
      "metadata": {
        "colab": {
          "base_uri": "https://localhost:8080/"
        },
        "id": "pmQydgKt2Usk",
        "outputId": "d4ffec3b-033f-4edc-c9eb-1f147b803769"
      },
      "execution_count": 4,
      "outputs": [
        {
          "output_type": "stream",
          "name": "stdout",
          "text": [
            "Path from Arad to Bucharest:\n",
            "Arad -> Zerind -> Oradea -> Sibiu -> Fagaras -> Bucharest\n"
          ]
        }
      ]
    }
  ]
}